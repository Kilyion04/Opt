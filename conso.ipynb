{
 "cells": [
  {
   "cell_type": "code",
   "execution_count": 1,
   "metadata": {},
   "outputs": [],
   "source": [
    "import networkx as nx\n",
    "import numpy as np\n",
    "import random\n",
    "import osmnx as ox\n",
    "import folium\n",
    "from folium.plugins import MarkerCluster\n",
    "import webbrowser\n",
    "import requests\n",
    "from itertools import permutations"
   ]
  },
  {
   "cell_type": "code",
   "execution_count": 2,
   "metadata": {},
   "outputs": [],
   "source": [
    "API_KEY = 'x'"
   ]
  },
  {
   "cell_type": "code",
   "execution_count": 20,
   "metadata": {},
   "outputs": [],
   "source": [
    "z = 5\n",
    "ville = \"Paris\"\n",
    "pays = \"France\"\n",
    "lieux = ville +', '+ pays"
   ]
  },
  {
   "cell_type": "code",
   "execution_count": 21,
   "metadata": {},
   "outputs": [
    {
     "name": "stdout",
     "output_type": "stream",
     "text": [
      "Bbox de la ville Avion en France: [2.224225, 48.815607, 2.469769, 48.902008]\n"
     ]
    }
   ],
   "source": [
    "import requests\n",
    "\n",
    "headers = {\n",
    "    'Accept': 'application/json, application/geo+json, application/gpx+xml, img/png; charset=utf-8',\n",
    "}\n",
    "url = f'https://api.openrouteservice.org/geocode/search?api_key={API_KEY}&text={lieux}'\n",
    "call = requests.get(url, headers=headers)\n",
    "\n",
    "if call.status_code == 200:\n",
    "    data = call.json()\n",
    "    bbox = data['features'][0]['bbox']  # Accéder à la bbox\n",
    "    print(\"Bbox de la ville Avion en France:\", bbox)\n",
    "else:\n",
    "    print(\"Erreur lors de la requête:\", call.status_code, call.reason)"
   ]
  },
  {
   "cell_type": "code",
   "execution_count": 22,
   "metadata": {},
   "outputs": [
    {
     "name": "stdout",
     "output_type": "stream",
     "text": [
      "200 OK\n",
      "{\"durations\":[[0.0,185.38,223.74],[185.38,0.0,291.48],[217.47,291.48,0.0]],\"destinations\":[{\"location\":[2.846535,50.399548],\"snapped_distance\":5.93},{\"location\":[2.833491,50.39754],\"snapped_distance\":62.23},{\"location\":[2.841761,50.405658],\"snapped_distance\":30.47}],\"sources\":[{\"location\":[2.846535,50.399548],\"snapped_distance\":5.93},{\"location\":[2.833491,50.39754],\"snapped_distance\":62.23},{\"location\":[2.841761,50.405658],\"snapped_distance\":30.47}],\"metadata\":{\"attribution\":\"openrouteservice.org | OpenStreetMap contributors\",\"service\":\"matrix\",\"timestamp\":1707102877190,\"query\":{\"locations\":[[2.84655,50.3996],[2.8335,50.3981],[2.842,50.40543]],\"profile\":\"driving-car\",\"responseType\":\"json\"},\"engine\":{\"version\":\"7.1.1\",\"build_date\":\"2024-01-29T14:41:12Z\",\"graph_date\":\"2024-02-04T14:27:02Z\"}}}\n"
     ]
    }
   ],
   "source": [
    "import requests\n",
    "\n",
    "body = {\"locations\":[[2.846550,50.3996],[2.8335,50.3981],[2.842,50.40543]]}\n",
    "\n",
    "headers = {\n",
    "    'Accept': 'application/json, application/geo+json, application/gpx+xml, img/png; charset=utf-8',\n",
    "    'Authorization': '5b3ce3597851110001cf62481a74eda827a04828adf4f255bf046343',\n",
    "    'Content-Type': 'application/json; charset=utf-8'\n",
    "}\n",
    "call = requests.post('https://api.openrouteservice.org/v2/matrix/driving-car', json=body, headers=headers)\n",
    "\n",
    "print(call.status_code, call.reason)\n",
    "print(call.text)"
   ]
  },
  {
   "cell_type": "code",
   "execution_count": 27,
   "metadata": {},
   "outputs": [],
   "source": [
    "def get_elevation(coordinates):\n",
    "    base_url = \"https://api.open-elevation.com/api/v1/lookup?locations=\"\n",
    "\n",
    "    # Définir la taille maximale de chaque sous-liste\n",
    "    chunk_size = 50  # Vous pouvez ajuster cette valeur en fonction de vos besoins\n",
    "\n",
    "    # Diviser la liste en sous-listes de taille chunk_size\n",
    "    chunks = [coordinates[i:i + chunk_size] for i in range(0, len(coordinates), chunk_size)]\n",
    "\n",
    "    elevations = []\n",
    "\n",
    "    # Parcourir chaque sous-liste et effectuer la requête\n",
    "    for chunk in chunks:\n",
    "        locations = '|'.join([f\"{lat},{lon}\" for lat, lon in chunk])\n",
    "        url = f\"{base_url}{locations}\"\n",
    "\n",
    "        try:\n",
    "            response = requests.get(url)\n",
    "            if response.status_code == 200:\n",
    "                data = response.json()\n",
    "                chunk_elevations = [result['elevation'] for result in data['results']]\n",
    "                elevations.extend(chunk_elevations)\n",
    "            else:\n",
    "                return f\"Error: {response.status_code}\"\n",
    "        except Exception as e:\n",
    "            return f\"An error occurred: {e}\"\n",
    "\n",
    "    # Renvoyer simplement la liste des élévations\n",
    "    return elevations"
   ]
  },
  {
   "cell_type": "code",
   "execution_count": 55,
   "metadata": {},
   "outputs": [
    {
     "name": "stdout",
     "output_type": "stream",
     "text": [
      "Trajet 1: Points 0 à 0 - Consommation: 0.00 kWh\n",
      "Trajet 2: Points 0 à 1 - Consommation: 0.23 kWh\n",
      "Trajet 3: Points 0 à 2 - Consommation: 0.28 kWh\n",
      "Trajet 4: Points 1 à 0 - Consommation: 0.23 kWh\n",
      "Trajet 5: Points 1 à 1 - Consommation: 0.00 kWh\n",
      "Trajet 6: Points 1 à 2 - Consommation: 0.36 kWh\n",
      "Trajet 7: Points 2 à 0 - Consommation: 0.27 kWh\n",
      "Trajet 8: Points 2 à 1 - Consommation: 0.36 kWh\n",
      "Trajet 9: Points 2 à 2 - Consommation: 0.00 kWh\n"
     ]
    }
   ],
   "source": [
    "import json\n",
    "\n",
    "# Convertir la réponse JSON en dictionnaire Python\n",
    "response_data = json.loads(call.text)\n",
    "\n",
    "# Extraire les durées entre les points\n",
    "durations = response_data['durations']\n",
    "\n",
    "# Obtenez les élévations pour chaque point (vous pouvez utiliser votre fonction get_elevation)\n",
    "# Par exemple, en supposant que vous ayez une fonction get_elevation qui prend une liste de coordonnées et renvoie une liste d'élévations :\n",
    "elevations = get_elevation(body[\"locations\"])\n",
    "\n",
    "# Définir la vitesse moyenne (en km/h), la consommation de carburant (en kWh/km) et la température (en degrés Celsius)\n",
    "vitesse_moyenne = 45  # en km/h\n",
    "consommation_base = 0.2  # en kWh/km (exemple)\n",
    "temperature = 10  # en degrés Celsius\n",
    "\n",
    "# Calculer la consommation pour chaque trajet\n",
    "consommations = []\n",
    "for i in range(len(durations)):\n",
    "    for j in range(len(durations[i])):\n",
    "        temps_trajet = durations[i][j] / 3600  # Convertir la durée de secondes en heures\n",
    "        distance = vitesse_moyenne * temps_trajet  # Calculer la distance parcourue\n",
    "\n",
    "        # Calculer la différence d'altitude entre les points de départ et d'arrivée\n",
    "        difference_altitude = elevations[j] - elevations[i]\n",
    "\n",
    "        # Ajuster la consommation en fonction de la différence d'altitude et de la température\n",
    "        ajustement_temperature = min(max((temperature - 15) / 10, -1), 1)  # Ajustement graduel de -20% à +50% pour des températures entre -10°C et 35°C\n",
    "        consommation = consommation_base * distance * (1 + difference_altitude / 100) * (1 + ajustement_temperature)  # Supposant que chaque 100 mètres de différence d'altitude affecte la consommation de 1%\n",
    "        consommations.append((i, j, consommation))  # Ajouter les données de consommation à la liste\n",
    "\n",
    "# Afficher les résultats\n",
    "for trajet, consommation in enumerate(consommations):\n",
    "    print(f\"Trajet {trajet + 1}: Points {consommation[0]} à {consommation[1]} - Consommation: {consommation[2]:.2f} kWh\")\n"
   ]
  },
  {
   "cell_type": "code",
   "execution_count": 56,
   "metadata": {},
   "outputs": [
    {
     "name": "stdout",
     "output_type": "stream",
     "text": [
      "Ordre optimal des points pour minimiser la consommation d'énergie:\n",
      "[2.8335, 50.3981]\n",
      "[2.84655, 50.3996]\n",
      "[2.842, 50.40543]\n",
      "Consommation totale d'énergie pour l'itinéraire optimal: 0.0 kWh\n"
     ]
    }
   ],
   "source": [
    "import itertools\n",
    "\n",
    "# Calculer la consommation totale pour chaque permutation des points\n",
    "consommations_permutations = []\n",
    "for permutation in itertools.permutations(range(len(body[\"locations\"]))):\n",
    "    consommation_totale = sum(consommations[i][j] for i, j in zip(permutation, permutation[1:]))\n",
    "    consommations_permutations.append((permutation, consommation_totale))\n",
    "\n",
    "# Trouver la permutation avec la consommation totale la plus faible\n",
    "meilleure_permutation, meilleure_consommation = min(consommations_permutations, key=lambda x: x[1])\n",
    "\n",
    "# Afficher l'ordre optimal des points\n",
    "chemin_optimal = [body[\"locations\"][i] for i in meilleure_permutation]\n",
    "print(\"Ordre optimal des points pour minimiser la consommation d'énergie:\")\n",
    "for point in chemin_optimal:\n",
    "    print(point)\n",
    "print(\"Consommation totale d'énergie pour l'itinéraire optimal:\", meilleure_consommation, \"kWh\")\n"
   ]
  }
 ],
 "metadata": {
  "kernelspec": {
   "display_name": "Python 3",
   "language": "python",
   "name": "python3"
  },
  "language_info": {
   "codemirror_mode": {
    "name": "ipython",
    "version": 3
   },
   "file_extension": ".py",
   "mimetype": "text/x-python",
   "name": "python",
   "nbconvert_exporter": "python",
   "pygments_lexer": "ipython3",
   "version": "3.11.4"
  }
 },
 "nbformat": 4,
 "nbformat_minor": 2
}
